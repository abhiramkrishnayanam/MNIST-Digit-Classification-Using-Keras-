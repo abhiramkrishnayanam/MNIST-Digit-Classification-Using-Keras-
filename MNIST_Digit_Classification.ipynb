{
  "nbformat": 4,
  "nbformat_minor": 0,
  "metadata": {
    "colab": {
      "provenance": []
    },
    "kernelspec": {
      "name": "python3",
      "display_name": "Python 3"
    },
    "language_info": {
      "name": "python"
    }
  },
  "cells": [
    {
      "cell_type": "markdown",
      "source": [
        "<h1 style=\"text-align: center;\"><b>Introduction to Neural Networks</b></h1>\n",
        "\n",
        "### Keras and Tensorflow\n",
        "Keras is a high-level neural networks API, written in Python, and capable of running on top of multiple backends, including TensorFlow, Theano, and CNTK. It is designed to enable fast experimentation with deep learning models, allowing users to quickly build, train, and deploy machine learning models with minimal coding effort. TensorFlow, on the other hand, is an open-source machine learning framework developed by Google. It provides a comprehensive ecosystem for building and deploying machine learning applications, ranging from research to production. Keras is tightly integrated with TensorFlow as its official high-level API, simplifying the process of creating complex neural network architectures. Together, Keras and TensorFlow offer a powerful yet user-friendly platform for both beginners and experts in the field of deep learning."
      ],
      "metadata": {
        "id": "ZZ_TXsjO-FJa"
      }
    },
    {
      "cell_type": "markdown",
      "source": [
        "### Problem Statement: MNIST Handwritten Digit Classification\n",
        "Objective:\n",
        "\n",
        "Build a machine learning model to classify images of handwritten digits (0-9) from the MNIST dataset. The goal is to accurately predict the digit depicted in a given image."
      ],
      "metadata": {
        "id": "oGhfFfO8Al8z"
      }
    },
    {
      "cell_type": "code",
      "execution_count": 1,
      "metadata": {
        "id": "nT1GKwTbBkOS"
      },
      "outputs": [],
      "source": [
        "import tensorflow as tf\n",
        "from tensorflow.keras.models import Sequential\n",
        "from tensorflow.keras.layers import Dense, Flatten\n",
        "from tensorflow.keras.utils import to_categorical\n",
        "from sklearn.model_selection import train_test_split"
      ]
    },
    {
      "cell_type": "markdown",
      "source": [
        "### About dataset:\n",
        "\n",
        "The MNIST (Modified National Institute of Standards and Technology) dataset is a popular dataset used for training and evaluating machine learning models, particularly in image classification tasks. It contains images of handwritten digits, making it an ideal starting point for exploring image classification and machine learning techniques."
      ],
      "metadata": {
        "id": "4LPuPLRa9zz7"
      }
    },
    {
      "cell_type": "code",
      "source": [
        "# Load the MNIST dataset\n",
        "from tensorflow.keras.datasets import mnist"
      ],
      "metadata": {
        "id": "MH-gVPnBCIlp"
      },
      "execution_count": 2,
      "outputs": []
    },
    {
      "cell_type": "code",
      "source": [
        "(X_train,y_train),(X_test,y_test)=mnist.load_data()"
      ],
      "metadata": {
        "colab": {
          "base_uri": "https://localhost:8080/",
          "height": 0
        },
        "id": "eQN8hCntFHL0",
        "outputId": "eb6ce945-61f7-40f4-b1aa-36f6ce77c2a2"
      },
      "execution_count": 3,
      "outputs": [
        {
          "output_type": "stream",
          "name": "stdout",
          "text": [
            "Downloading data from https://storage.googleapis.com/tensorflow/tf-keras-datasets/mnist.npz\n",
            "\u001b[1m11490434/11490434\u001b[0m \u001b[32m━━━━━━━━━━━━━━━━━━━━\u001b[0m\u001b[37m\u001b[0m \u001b[1m1s\u001b[0m 0us/step\n"
          ]
        }
      ]
    },
    {
      "cell_type": "code",
      "source": [
        "print (X_train.shape)\n",
        "print (y_train.shape)\n",
        "print (X_test.shape)\n",
        "print (y_test.shape)"
      ],
      "metadata": {
        "colab": {
          "base_uri": "https://localhost:8080/",
          "height": 0
        },
        "id": "nkDmLuZ0Fluq",
        "outputId": "1bd93cfe-12d9-43e4-b70c-9569476fecc9"
      },
      "execution_count": 4,
      "outputs": [
        {
          "output_type": "stream",
          "name": "stdout",
          "text": [
            "(60000, 28, 28)\n",
            "(60000,)\n",
            "(10000, 28, 28)\n",
            "(10000,)\n"
          ]
        }
      ]
    },
    {
      "cell_type": "markdown",
      "source": [
        "### Normalisation"
      ],
      "metadata": {
        "id": "O5jEhPQBnuSE"
      }
    },
    {
      "cell_type": "code",
      "source": [
        "# Normalize the data (scale pixel values to [0, 1])\n",
        "X_train = X_train / 255.0\n",
        "X_test = X_test / 255.0"
      ],
      "metadata": {
        "id": "TFyGaXBlFrpy"
      },
      "execution_count": 5,
      "outputs": []
    },
    {
      "cell_type": "markdown",
      "source": [
        "The value **255** is used because it is the maximum possible pixel value in an image represented in 8-bit grayscale.\n",
        "\n",
        "---\n",
        "\n",
        "#### 8-bit Grayscale Images:\n",
        "- Each pixel in a grayscale image is represented by a value between **0** (black) and **255** (white).\n",
        "- These values are stored as integers in an **8-bit format**, which can represent \\(2^8 = 256\\) levels of intensity (0 to 255).\n",
        "\n",
        "---\n",
        "\n",
        "#### Normalization:\n",
        "- Neural networks work best with input values in a smaller and consistent range, such as **[0, 1]**.\n",
        "- Dividing each pixel value by **255** scales the range of pixel values from **[0, 255]** to **[0, 1]**.\n",
        "- This normalization helps improve the efficiency and stability of the training process by ensuring that the input features have a uniform scale.\n",
        "\n",
        "---\n",
        "\n",
        "### Why Normalize?\n",
        "1. **Improved Training Stability**: Smaller input values prevent large gradient updates, which could destabilize the training process.\n",
        "2. **Faster Convergence**: The optimizer can converge faster when inputs are normalized.\n",
        "3. **Better Performance**: It often results in better model performance by reducing numerical instability in computations."
      ],
      "metadata": {
        "id": "rbQ6RNf6oSoq"
      }
    },
    {
      "cell_type": "markdown",
      "source": [
        "<font color=green size=4><b>Convert labels to one-hot encoding</b></font>"
      ],
      "metadata": {
        "id": "fWvFamYxqjVH"
      }
    },
    {
      "cell_type": "code",
      "source": [
        "y_train = to_categorical(y_train, 10)\n",
        "y_test = to_categorical(y_test, 10)"
      ],
      "metadata": {
        "id": "7cE5GQLKnxf-"
      },
      "execution_count": 6,
      "outputs": []
    },
    {
      "cell_type": "markdown",
      "source": [
        "<font color=green size=4><b>Build the neural network model</b></font>"
      ],
      "metadata": {
        "id": "PtMoJZPwq5zk"
      }
    },
    {
      "cell_type": "code",
      "source": [
        "model=Sequential(\n",
        "    [\n",
        "        Flatten(input_shape=(28,28)),\n",
        "        Dense(128,activation='relu'),\n",
        "        Dense(64,activation='relu'),\n",
        "        Dense(10,activation='softmax')\n",
        "    ]\n",
        ")"
      ],
      "metadata": {
        "colab": {
          "base_uri": "https://localhost:8080/",
          "height": 0
        },
        "id": "aj_Mmf4upGsM",
        "outputId": "e2056b4b-c695-4043-8078-1afbef808689"
      },
      "execution_count": 7,
      "outputs": [
        {
          "output_type": "stream",
          "name": "stderr",
          "text": [
            "/usr/local/lib/python3.11/dist-packages/keras/src/layers/reshaping/flatten.py:37: UserWarning: Do not pass an `input_shape`/`input_dim` argument to a layer. When using Sequential models, prefer using an `Input(shape)` object as the first layer in the model instead.\n",
            "  super().__init__(**kwargs)\n"
          ]
        }
      ]
    },
    {
      "cell_type": "markdown",
      "source": [
        "### Model Architecture:\n",
        "\n",
        "Flatten Layer: Converts 28x28 images into a flat vector of 784 values.\n",
        "\n",
        "Dense Layers: Fully connected layers with ReLU activation for non-linear transformations.\n",
        "\n",
        "Output Layer: A Dense layer with 10 neurons (one for each digit class) and a softmax activation to output probabilities."
      ],
      "metadata": {
        "id": "4xZXscAm5M65"
      }
    },
    {
      "cell_type": "markdown",
      "source": [
        "<font color=green size=4><b>Compile the model</b></font>"
      ],
      "metadata": {
        "id": "xbZHSdV3rIIq"
      }
    },
    {
      "cell_type": "code",
      "source": [
        "model.compile(optimizer='adam',loss='categorical_crossentropy',metrics=['accuracy'])"
      ],
      "metadata": {
        "id": "wVCAFBpSrHMy"
      },
      "execution_count": 8,
      "outputs": []
    },
    {
      "cell_type": "markdown",
      "source": [
        "### Model Compilation:\n",
        "\n",
        "Optimizer: Adam optimizer for adaptive learning.\n",
        "\n",
        "Loss Function: Categorical Crossentropy for multi-class classification.\n",
        "\n",
        "Metric: Accuracy to evaluate performance."
      ],
      "metadata": {
        "id": "1KPd0NPs5Y9V"
      }
    },
    {
      "cell_type": "markdown",
      "source": [
        "<font color=green size=4><b>Train the model</b></font>"
      ],
      "metadata": {
        "id": "neI603pJuZYz"
      }
    },
    {
      "cell_type": "code",
      "source": [
        "history = model.fit(X_train, y_train, validation_split=0.2, epochs=10, batch_size=32, verbose=1)"
      ],
      "metadata": {
        "colab": {
          "base_uri": "https://localhost:8080/",
          "height": 0
        },
        "id": "zCRwAIXfrHgj",
        "outputId": "402088a0-9dd9-4244-d993-bb3dabf649ac"
      },
      "execution_count": 9,
      "outputs": [
        {
          "output_type": "stream",
          "name": "stdout",
          "text": [
            "Epoch 1/10\n",
            "\u001b[1m1500/1500\u001b[0m \u001b[32m━━━━━━━━━━━━━━━━━━━━\u001b[0m\u001b[37m\u001b[0m \u001b[1m7s\u001b[0m 4ms/step - accuracy: 0.8591 - loss: 0.4779 - val_accuracy: 0.9560 - val_loss: 0.1492\n",
            "Epoch 2/10\n",
            "\u001b[1m1500/1500\u001b[0m \u001b[32m━━━━━━━━━━━━━━━━━━━━\u001b[0m\u001b[37m\u001b[0m \u001b[1m6s\u001b[0m 4ms/step - accuracy: 0.9614 - loss: 0.1266 - val_accuracy: 0.9692 - val_loss: 0.1027\n",
            "Epoch 3/10\n",
            "\u001b[1m1500/1500\u001b[0m \u001b[32m━━━━━━━━━━━━━━━━━━━━\u001b[0m\u001b[37m\u001b[0m \u001b[1m6s\u001b[0m 4ms/step - accuracy: 0.9763 - loss: 0.0780 - val_accuracy: 0.9703 - val_loss: 0.0968\n",
            "Epoch 4/10\n",
            "\u001b[1m1500/1500\u001b[0m \u001b[32m━━━━━━━━━━━━━━━━━━━━\u001b[0m\u001b[37m\u001b[0m \u001b[1m5s\u001b[0m 3ms/step - accuracy: 0.9824 - loss: 0.0556 - val_accuracy: 0.9719 - val_loss: 0.0977\n",
            "Epoch 5/10\n",
            "\u001b[1m1500/1500\u001b[0m \u001b[32m━━━━━━━━━━━━━━━━━━━━\u001b[0m\u001b[37m\u001b[0m \u001b[1m7s\u001b[0m 5ms/step - accuracy: 0.9860 - loss: 0.0454 - val_accuracy: 0.9726 - val_loss: 0.0925\n",
            "Epoch 6/10\n",
            "\u001b[1m1500/1500\u001b[0m \u001b[32m━━━━━━━━━━━━━━━━━━━━\u001b[0m\u001b[37m\u001b[0m \u001b[1m9s\u001b[0m 4ms/step - accuracy: 0.9895 - loss: 0.0344 - val_accuracy: 0.9776 - val_loss: 0.0831\n",
            "Epoch 7/10\n",
            "\u001b[1m1500/1500\u001b[0m \u001b[32m━━━━━━━━━━━━━━━━━━━━\u001b[0m\u001b[37m\u001b[0m \u001b[1m10s\u001b[0m 3ms/step - accuracy: 0.9918 - loss: 0.0271 - val_accuracy: 0.9710 - val_loss: 0.1056\n",
            "Epoch 8/10\n",
            "\u001b[1m1500/1500\u001b[0m \u001b[32m━━━━━━━━━━━━━━━━━━━━\u001b[0m\u001b[37m\u001b[0m \u001b[1m7s\u001b[0m 5ms/step - accuracy: 0.9931 - loss: 0.0228 - val_accuracy: 0.9747 - val_loss: 0.0986\n",
            "Epoch 9/10\n",
            "\u001b[1m1500/1500\u001b[0m \u001b[32m━━━━━━━━━━━━━━━━━━━━\u001b[0m\u001b[37m\u001b[0m \u001b[1m8s\u001b[0m 3ms/step - accuracy: 0.9942 - loss: 0.0179 - val_accuracy: 0.9736 - val_loss: 0.1172\n",
            "Epoch 10/10\n",
            "\u001b[1m1500/1500\u001b[0m \u001b[32m━━━━━━━━━━━━━━━━━━━━\u001b[0m\u001b[37m\u001b[0m \u001b[1m7s\u001b[0m 5ms/step - accuracy: 0.9944 - loss: 0.0159 - val_accuracy: 0.9745 - val_loss: 0.1091\n"
          ]
        }
      ]
    },
    {
      "cell_type": "markdown",
      "source": [
        "### Training:\n",
        "\n",
        "The model is trained for 10 epochs with a batch size of 32.\n",
        "20% of the training data is used for validation during training."
      ],
      "metadata": {
        "id": "xF_Iwfwj5ogt"
      }
    },
    {
      "cell_type": "markdown",
      "source": [
        "<font color=green size=4><b>Evaluate the model</b></font>"
      ],
      "metadata": {
        "id": "_P0YMvBB4JB0"
      }
    },
    {
      "cell_type": "code",
      "source": [
        "\n",
        "test_loss, test_accuracy = model.evaluate(X_test, y_test, verbose=0)\n",
        "print(f\"Test Accuracy: {test_accuracy:.2%}\")"
      ],
      "metadata": {
        "colab": {
          "base_uri": "https://localhost:8080/",
          "height": 0
        },
        "id": "3e3g4E6s4Esm",
        "outputId": "e95d59ee-8a0d-44d0-dfb4-820080a6d0ab"
      },
      "execution_count": 10,
      "outputs": [
        {
          "output_type": "stream",
          "name": "stdout",
          "text": [
            "Test Accuracy: 97.61%\n"
          ]
        }
      ]
    },
    {
      "cell_type": "markdown",
      "source": [
        "### Evaluation and Prediction:\n",
        "\n",
        "The model is evaluated on the test set to measure accuracy.\n",
        "Predictions are made on the first 5 test images, and both predicted and actual classes are displayed."
      ],
      "metadata": {
        "id": "e-yaf36B5z9U"
      }
    },
    {
      "cell_type": "markdown",
      "source": [
        "<font color=green size=4><b>Predict the first 5 test images</b></font>"
      ],
      "metadata": {
        "id": "rkcKcqjk4u74"
      }
    },
    {
      "cell_type": "code",
      "source": [
        "predictions = model.predict(X_test[:5])\n",
        "predicted_classes = predictions.argmax(axis=1)\n",
        "actual_classes = y_test[:5].argmax(axis=1)"
      ],
      "metadata": {
        "colab": {
          "base_uri": "https://localhost:8080/",
          "height": 0
        },
        "id": "uokFbrJv4Ylj",
        "outputId": "68f26ae4-f5ae-4924-ebeb-c4e6a25609ae"
      },
      "execution_count": 11,
      "outputs": [
        {
          "output_type": "stream",
          "name": "stdout",
          "text": [
            "\u001b[1m1/1\u001b[0m \u001b[32m━━━━━━━━━━━━━━━━━━━━\u001b[0m\u001b[37m\u001b[0m \u001b[1m0s\u001b[0m 57ms/step\n"
          ]
        }
      ]
    },
    {
      "cell_type": "code",
      "source": [
        "print(\"Predicted Classes: \", predicted_classes)\n",
        "print(\"Actual Classes:    \", actual_classes)"
      ],
      "metadata": {
        "colab": {
          "base_uri": "https://localhost:8080/",
          "height": 0
        },
        "id": "lkkY4Llh40vK",
        "outputId": "f6c0fbb4-c065-4290-eb6c-adf33c8fee78"
      },
      "execution_count": 12,
      "outputs": [
        {
          "output_type": "stream",
          "name": "stdout",
          "text": [
            "Predicted Classes:  [7 2 1 0 4]\n",
            "Actual Classes:     [7 2 1 0 4]\n"
          ]
        }
      ]
    },
    {
      "cell_type": "code",
      "source": [
        "import matplotlib.pyplot as plt\n",
        "\n",
        "# Visualize the first 10 images from the training set\n",
        "plt.figure(figsize=(10, 5))\n",
        "for i in range(10):\n",
        "    plt.subplot(2, 5, i+1)\n",
        "    plt.imshow(X_train[i], cmap='gray')\n",
        "    plt.title(f\"Label: {y_train[i].argmax()}\")\n",
        "    plt.axis('off')\n",
        "plt.show()\n"
      ],
      "metadata": {
        "colab": {
          "base_uri": "https://localhost:8080/",
          "height": 402
        },
        "id": "wNEzNg_f44eg",
        "outputId": "8e74cb68-7904-47ea-ee3a-b6e938e1312e"
      },
      "execution_count": 13,
      "outputs": [
        {
          "output_type": "display_data",
          "data": {
            "text/plain": [
              "<Figure size 1000x500 with 10 Axes>"
            ],
            "image/png": "[encoded data removed]"
          },
          "metadata": {}
        }
      ]
    },
    {
      "cell_type": "code",
      "source": [
        "# Plot training & validation accuracy values\n",
        "plt.plot(history.history['accuracy'])\n",
        "plt.plot(history.history['val_accuracy'])\n",
        "plt.title('Model Accuracy')\n",
        "plt.xlabel('Epochs')\n",
        "plt.ylabel('Accuracy')\n",
        "plt.legend(['Train', 'Validation'], loc='upper left')\n",
        "plt.show()\n"
      ],
      "metadata": {
        "colab": {
          "base_uri": "https://localhost:8080/",
          "height": 472
        },
        "id": "sUb8GHGe73Py",
        "outputId": "948a2fea-87be-4564-d219-c00175a2cbdb"
      },
      "execution_count": 14,
      "outputs": [
        {
          "output_type": "display_data",
          "data": {
            "text/plain": [
              "<Figure size 640x480 with 1 Axes>"
            ],
            "image/png": "[encoded data removed]"
          },
          "metadata": {}
        }
      ]
    },
    {
      "cell_type": "code",
      "source": [
        "# Plot training & validation loss values\n",
        "plt.plot(history.history['loss'])\n",
        "plt.plot(history.history['val_loss'])\n",
        "plt.title('Model Loss')\n",
        "plt.xlabel('Epochs')\n",
        "plt.ylabel('Loss')\n",
        "plt.legend(['Train', 'Validation'], loc='upper left')\n",
        "plt.show()\n"
      ],
      "metadata": {
        "colab": {
          "base_uri": "https://localhost:8080/",
          "height": 472
        },
        "id": "gS7q96Mi8Cy4",
        "outputId": "c0b76ce8-1de4-46c0-c396-78f556c0178a"
      },
      "execution_count": 15,
      "outputs": [
        {
          "output_type": "display_data",
          "data": {
            "text/plain": [
              "<Figure size 640x480 with 1 Axes>"
            ],
            "image/png": "[encoded data removed]"
          },
          "metadata": {}
        }
      ]
    },
    {
      "cell_type": "code",
      "source": [
        "# Predict the classes on the test data\n",
        "import numpy as np\n",
        "y_pred = model.predict(X_test)  # Get predicted probabilities\n",
        "y_pred_classes = np.argmax(y_pred, axis=1)  # Convert to class labels\n",
        "\n",
        "# True labels\n",
        "y_true = np.argmax(y_test, axis=1)  # Convert one-hot encoded labels to integers\n",
        "\n",
        "# Visualize some test predictions\n",
        "plt.figure(figsize=(10, 5))\n",
        "for i in range(5):\n",
        "    plt.subplot(1, 5, i+1)\n",
        "    plt.imshow(X_test[i], cmap='gray')\n",
        "    plt.title(f\"Pred: {y_pred_classes[i]}\\nTrue: {y_true[i]}\")\n",
        "    plt.axis('off')\n",
        "plt.show()\n"
      ],
      "metadata": {
        "colab": {
          "base_uri": "https://localhost:8080/",
          "height": 231
        },
        "id": "aWFkd0oP8aYv",
        "outputId": "d20e453c-6ef6-4739-d7b1-4d1d136b76a7"
      },
      "execution_count": 18,
      "outputs": [
        {
          "output_type": "stream",
          "name": "stdout",
          "text": [
            "\u001b[1m313/313\u001b[0m \u001b[32m━━━━━━━━━━━━━━━━━━━━\u001b[0m\u001b[37m\u001b[0m \u001b[1m0s\u001b[0m 1ms/step\n"
          ]
        },
        {
          "output_type": "display_data",
          "data": {
            "text/plain": [
              "<Figure size 1000x500 with 5 Axes>"
            ],
            "image/png": "[encoded data removed]"
          },
          "metadata": {}
        }
      ]
    },
    {
      "cell_type": "code",
      "source": [],
      "metadata": {
        "id": "0LUNuGbG8hMm"
      },
      "execution_count": null,
      "outputs": []
    }
  ]
}